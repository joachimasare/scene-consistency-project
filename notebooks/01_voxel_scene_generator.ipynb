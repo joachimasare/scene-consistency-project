{
 "cells": [
  {
   "cell_type": "code",
   "execution_count": null,
   "id": "d9c84513",
   "metadata": {
    "vscode": {
     "languageId": "plaintext"
    }
   },
   "outputs": [],
   "source": [
    "# Install Open3D \n",
    "!pip install open3d -q\n"
   ]
  },
  {
   "cell_type": "code",
   "execution_count": null,
   "id": "2ae866d9",
   "metadata": {
    "vscode": {
     "languageId": "plaintext"
    }
   },
   "outputs": [],
   "source": [
    "import numpy as np\n",
    "import open3d as o3d\n",
    "\n",
    "def create_voxel_scene(size=(32, 32, 16)):\n",
    "    voxels = np.zeros(size)\n",
    "\n",
    "    # Add a ground plane at z = 0\n",
    "    voxels[:, :, 0] = 1\n",
    "\n",
    "    # Add a wall\n",
    "    voxels[10:20, 16, 1:5] = 1\n",
    "\n",
    "    # Add a vertical tower\n",
    "    voxels[5, 5, 1:10] = 1\n",
    "\n",
    "    return voxels\n"
   ]
  },
  {
   "cell_type": "code",
   "execution_count": null,
   "id": "7d5491ec",
   "metadata": {
    "vscode": {
     "languageId": "plaintext"
    }
   },
   "outputs": [],
   "source": [
    "def voxels_to_mesh(voxel_grid):\n",
    "    mesh = o3d.geometry.TriangleMesh()\n",
    "    for x in range(voxel_grid.shape[0]):\n",
    "        for y in range(voxel_grid.shape[1]):\n",
    "            for z in range(voxel_grid.shape[2]):\n",
    "                if voxel_grid[x, y, z] == 1:\n",
    "                    cube = o3d.geometry.TriangleMesh.create_box(width=1, height=1, depth=1)\n",
    "                    cube.translate((x, y, z))\n",
    "                    cube.compute_vertex_normals()\n",
    "                    mesh += cube\n",
    "    return mesh\n"
   ]
  },
  {
   "cell_type": "code",
   "execution_count": null,
   "id": "418c4c6c",
   "metadata": {
    "vscode": {
     "languageId": "plaintext"
    }
   },
   "outputs": [],
   "source": [
    "def render_scene(mesh, camera_pos=[60, 40, 30], lookat=[16, 16, 4], width=512, height=512):\n",
    "    # Set up scene\n",
    "    scene = o3d.visualization.rendering.Open3DScene(o3d.visualization.rendering.Renderer())\n",
    "    mat = o3d.visualization.rendering.MaterialRecord()\n",
    "    mat.shader = \"defaultLit\"\n",
    "    \n",
    "    mesh.compute_vertex_normals()\n",
    "    scene.scene.add_geometry(\"scene\", mesh, mat)\n",
    "    \n",
    "    # Camera\n",
    "    center = o3d.geometry.AxisAlignedBoundingBox.create_from_triangle_mesh(mesh).get_center()\n",
    "    eye = np.array(camera_pos)\n",
    "    up = np.array([0, 0, 1])\n",
    "\n",
    "    scene.scene.camera.look_at(lookat, eye, up)\n",
    "    \n",
    "    # Offscreen render\n",
    "    img = scene.scene.render_to_image(width, height)\n",
    "    return np.asarray(img)\n"
   ]
  },
  {
   "cell_type": "code",
   "execution_count": null,
   "id": "80be46a4",
   "metadata": {
    "vscode": {
     "languageId": "plaintext"
    }
   },
   "outputs": [],
   "source": [
    "voxels = create_voxel_scene()\n",
    "mesh = voxels_to_mesh(voxels)\n",
    "image = render_scene(mesh)\n",
    "\n",
    "import matplotlib.pyplot as plt\n",
    "plt.imshow(image)\n",
    "plt.title(\"Rendered Voxel Scene\")\n",
    "plt.axis('off')\n",
    "plt.show()\n"
   ]
  },
  {
   "cell_type": "code",
   "execution_count": null,
   "id": "8055bce2",
   "metadata": {
    "vscode": {
     "languageId": "plaintext"
    }
   },
   "outputs": [],
   "source": [
    "# Placeholder for depth map (real Z-buffer rendering needs custom pipeline)\n",
    "depth_map = np.linalg.norm(np.indices(voxels.shape).T - np.array([16,16,0]), axis=-1)\n",
    "np.save(\"/content/depth_0.npy\", depth_map)\n"
   ]
  }
 ],
 "metadata": {
  "language_info": {
   "name": "python"
  }
 },
 "nbformat": 4,
 "nbformat_minor": 5
}
